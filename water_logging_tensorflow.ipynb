{
  "nbformat": 4,
  "nbformat_minor": 0,
  "metadata": {
    "colab": {
      "provenance": []
    },
    "kernelspec": {
      "name": "python3",
      "display_name": "Python 3"
    },
    "language_info": {
      "name": "python"
    }
  },
  "cells": [
    {
      "cell_type": "code",
      "execution_count": 2,
      "metadata": {
        "id": "AOhxGNHmqQdH"
      },
      "outputs": [],
      "source": [
        "from tensorflow.keras.layers import Input, Lambda, Dense, Flatten,Dropout\n",
        "from tensorflow.keras.models import Model\n",
        "from tensorflow.keras.applications.vgg19 import VGG19\n",
        "from tensorflow.keras.applications.vgg19 import preprocess_input\n",
        "from tensorflow.keras.preprocessing import image\n",
        "from tensorflow.keras.preprocessing.image import ImageDataGenerator\n",
        "from tensorflow.keras.models import Sequential\n",
        "import numpy as np\n",
        "import pandas as pd\n",
        "import os\n",
        "import cv2\n",
        "import matplotlib.pyplot as plt"
      ]
    },
    {
      "cell_type": "code",
      "source": [
        "# !unzip dataset.zip"
      ],
      "metadata": {
        "id": "ZOStoIpFtHeS"
      },
      "execution_count": 4,
      "outputs": []
    },
    {
      "cell_type": "code",
      "source": [
        "train_path=\"dataset/train\"\n",
        "test_path=\"dataset/test\""
      ],
      "metadata": {
        "id": "wBZp6TcSuPoY"
      },
      "execution_count": 5,
      "outputs": []
    },
    {
      "cell_type": "code",
      "source": [
        "# os.remove(\"dataset/not_logging/.ipynb_checkpoints\")\n",
        "# os.remove(\"/content/dataset/train/not_logging/.ipynb_checkpoints\")\n",
        "import shutil\n",
        "for root, subdirs, files in os.walk('.'):\n",
        "    for d in subdirs:\n",
        "        if d == \".ipynb_checkpoints\":\n",
        "            shutil.rmtree(os.path.join(root, d))"
      ],
      "metadata": {
        "id": "uDYdU_iD0RrQ"
      },
      "execution_count": 6,
      "outputs": []
    },
    {
      "cell_type": "code",
      "source": [
        "x_train=[]\n",
        "\n",
        "for folder in os.listdir(train_path):\n",
        "\n",
        "    sub_path=train_path+\"/\"+folder\n",
        "\n",
        "    for img in os.listdir(sub_path):\n",
        "        \n",
        "\n",
        "        image_path=sub_path+\"/\"+img\n",
        "        # print(\"img :\", image_path)\n",
        "\n",
        "        img_arr=cv2.imread(image_path)\n",
        "      \n",
        "        img_arr=cv2.resize(img_arr,(224,224))\n",
        "        \n",
        "        x_train.append(img_arr)"
      ],
      "metadata": {
        "id": "vA6PsL1bugIe"
      },
      "execution_count": 7,
      "outputs": []
    },
    {
      "cell_type": "code",
      "source": [
        "x_test=[]\n",
        "\n",
        "for folder in os.listdir(test_path):\n",
        "\n",
        "    sub_path=test_path+\"/\"+folder\n",
        "\n",
        "    for img in os.listdir(sub_path):\n",
        "        print(\"img : \", img)\n",
        "\n",
        "        image_path=sub_path+\"/\"+img\n",
        "\n",
        "        img_arr=cv2.imread(image_path)\n",
        "\n",
        "        img_arr=cv2.resize(img_arr,(224,224))\n",
        "\n",
        "        x_test.append(img_arr)"
      ],
      "metadata": {
        "colab": {
          "base_uri": "https://localhost:8080/"
        },
        "id": "bsCgNxhCuoKd",
        "outputId": "8626b19d-b8af-4b1c-8661-4a6e88e68f70"
      },
      "execution_count": 8,
      "outputs": [
        {
          "output_type": "stream",
          "name": "stdout",
          "text": [
            "img :  indian village school campus_4.jpeg\n",
            "img :  indian village school campus_7.jpeg\n",
            "img :  indian village school campus_6.jpeg\n",
            "img :  indian village school campus_3.jpeg\n",
            "img :  indian village school campus_5.jpeg\n",
            "img :  water logging in school_5.jpeg\n",
            "img :  water logging in school_4.jpeg\n",
            "img :  water logging in school_3.jpeg\n",
            "img :  water logging in school_7.png\n",
            "img :  water logging in school_6.jpeg\n"
          ]
        }
      ]
    },
    {
      "cell_type": "code",
      "source": [
        "train_x=np.array(x_train)\n",
        "test_x=np.array(x_test)"
      ],
      "metadata": {
        "id": "_n_Fmcp7xAHJ"
      },
      "execution_count": 9,
      "outputs": []
    },
    {
      "cell_type": "code",
      "source": [
        "train_x=train_x/255.0\n",
        "test_x=test_x/255.0"
      ],
      "metadata": {
        "id": "OAT-rnDFxLKy"
      },
      "execution_count": 10,
      "outputs": []
    },
    {
      "cell_type": "code",
      "source": [
        "train_x.shape"
      ],
      "metadata": {
        "colab": {
          "base_uri": "https://localhost:8080/"
        },
        "id": "Leo09GT9zNSX",
        "outputId": "c8ae157c-41bf-4ab1-f3fb-e6281ed73969"
      },
      "execution_count": 11,
      "outputs": [
        {
          "output_type": "execute_result",
          "data": {
            "text/plain": [
              "(89, 224, 224, 3)"
            ]
          },
          "metadata": {},
          "execution_count": 11
        }
      ]
    },
    {
      "cell_type": "code",
      "source": [
        "test_x.shape"
      ],
      "metadata": {
        "colab": {
          "base_uri": "https://localhost:8080/"
        },
        "id": "pWKWbJIOzSA9",
        "outputId": "5cfcb545-ebd3-457e-aeeb-6d6a7240ae2d"
      },
      "execution_count": 12,
      "outputs": [
        {
          "output_type": "execute_result",
          "data": {
            "text/plain": [
              "(10, 224, 224, 3)"
            ]
          },
          "metadata": {},
          "execution_count": 12
        }
      ]
    },
    {
      "cell_type": "code",
      "source": [
        "train_datagen = ImageDataGenerator(rescale = 1./255)\n",
        "test_datagen = ImageDataGenerator(rescale = 1./255)"
      ],
      "metadata": {
        "id": "aCg1cQLjxOBr"
      },
      "execution_count": 13,
      "outputs": []
    },
    {
      "cell_type": "code",
      "source": [
        "training_set = train_datagen.flow_from_directory(train_path,\n",
        "                                                 target_size = (224, 224),\n",
        "                                                 batch_size = 32,\n",
        "                                                 class_mode = 'sparse')\n",
        "test_set = test_datagen.flow_from_directory(test_path,\n",
        "                                            target_size = (224, 224),\n",
        "                                            batch_size = 32,\n",
        "                                            class_mode = 'sparse')"
      ],
      "metadata": {
        "colab": {
          "base_uri": "https://localhost:8080/"
        },
        "id": "_1zMAK45xWCV",
        "outputId": "413754a7-da22-4c26-dbce-b7719c67b3ec"
      },
      "execution_count": 14,
      "outputs": [
        {
          "output_type": "stream",
          "name": "stdout",
          "text": [
            "Found 89 images belonging to 2 classes.\n",
            "Found 10 images belonging to 2 classes.\n"
          ]
        }
      ]
    },
    {
      "cell_type": "code",
      "source": [],
      "metadata": {
        "id": "uIqPnRB_zG8J"
      },
      "execution_count": 14,
      "outputs": []
    },
    {
      "cell_type": "code",
      "source": [
        "train_y=training_set.classes\n",
        "test_y=test_set.classes"
      ],
      "metadata": {
        "id": "QZJYtjnwxY5e"
      },
      "execution_count": 15,
      "outputs": []
    },
    {
      "cell_type": "code",
      "source": [
        "training_set.class_indices\n",
        "train_y.shape,test_y.shape"
      ],
      "metadata": {
        "colab": {
          "base_uri": "https://localhost:8080/"
        },
        "id": "Sh5r0AU2xgy6",
        "outputId": "17a8caa6-6a31-48c0-9ab1-a58032ec1e46"
      },
      "execution_count": 16,
      "outputs": [
        {
          "output_type": "execute_result",
          "data": {
            "text/plain": [
              "((89,), (10,))"
            ]
          },
          "metadata": {},
          "execution_count": 16
        }
      ]
    },
    {
      "cell_type": "code",
      "source": [
        "IMAGE_SIZE = [224, 224]"
      ],
      "metadata": {
        "id": "BOWOlZqSybqo"
      },
      "execution_count": 17,
      "outputs": []
    },
    {
      "cell_type": "code",
      "source": [
        "vgg = VGG19(input_shape=IMAGE_SIZE + [3], weights='imagenet', include_top=False)\n",
        "#do not train the pre-trained layers of VGG-19\n",
        "for layer in vgg.layers:\n",
        "    layer.trainable = False\n",
        "x = Flatten()(vgg.output)\n",
        "#adding output layer.Softmax classifier is used as it is multi-class classification\n",
        "prediction = Dense(2, activation='softmax')(x)"
      ],
      "metadata": {
        "id": "XVkHsqVDxjMT",
        "colab": {
          "base_uri": "https://localhost:8080/"
        },
        "outputId": "64557e6f-75bb-4adf-aa99-ce80ef8211e4"
      },
      "execution_count": 18,
      "outputs": [
        {
          "output_type": "stream",
          "name": "stdout",
          "text": [
            "Downloading data from https://storage.googleapis.com/tensorflow/keras-applications/vgg19/vgg19_weights_tf_dim_ordering_tf_kernels_notop.h5\n",
            "80134624/80134624 [==============================] - 1s 0us/step\n"
          ]
        }
      ]
    },
    {
      "cell_type": "code",
      "source": [
        "model = Model(inputs=vgg.input, outputs=prediction)"
      ],
      "metadata": {
        "id": "GPyfmEEqyCth"
      },
      "execution_count": 19,
      "outputs": []
    },
    {
      "cell_type": "code",
      "source": [
        "model.summary()"
      ],
      "metadata": {
        "colab": {
          "base_uri": "https://localhost:8080/"
        },
        "id": "eoCk9pa3ykro",
        "outputId": "98ccb973-e22b-4f47-e216-2e2afd8b9966"
      },
      "execution_count": 20,
      "outputs": [
        {
          "output_type": "stream",
          "name": "stdout",
          "text": [
            "Model: \"model\"\n",
            "_________________________________________________________________\n",
            " Layer (type)                Output Shape              Param #   \n",
            "=================================================================\n",
            " input_1 (InputLayer)        [(None, 224, 224, 3)]     0         \n",
            "                                                                 \n",
            " block1_conv1 (Conv2D)       (None, 224, 224, 64)      1792      \n",
            "                                                                 \n",
            " block1_conv2 (Conv2D)       (None, 224, 224, 64)      36928     \n",
            "                                                                 \n",
            " block1_pool (MaxPooling2D)  (None, 112, 112, 64)      0         \n",
            "                                                                 \n",
            " block2_conv1 (Conv2D)       (None, 112, 112, 128)     73856     \n",
            "                                                                 \n",
            " block2_conv2 (Conv2D)       (None, 112, 112, 128)     147584    \n",
            "                                                                 \n",
            " block2_pool (MaxPooling2D)  (None, 56, 56, 128)       0         \n",
            "                                                                 \n",
            " block3_conv1 (Conv2D)       (None, 56, 56, 256)       295168    \n",
            "                                                                 \n",
            " block3_conv2 (Conv2D)       (None, 56, 56, 256)       590080    \n",
            "                                                                 \n",
            " block3_conv3 (Conv2D)       (None, 56, 56, 256)       590080    \n",
            "                                                                 \n",
            " block3_conv4 (Conv2D)       (None, 56, 56, 256)       590080    \n",
            "                                                                 \n",
            " block3_pool (MaxPooling2D)  (None, 28, 28, 256)       0         \n",
            "                                                                 \n",
            " block4_conv1 (Conv2D)       (None, 28, 28, 512)       1180160   \n",
            "                                                                 \n",
            " block4_conv2 (Conv2D)       (None, 28, 28, 512)       2359808   \n",
            "                                                                 \n",
            " block4_conv3 (Conv2D)       (None, 28, 28, 512)       2359808   \n",
            "                                                                 \n",
            " block4_conv4 (Conv2D)       (None, 28, 28, 512)       2359808   \n",
            "                                                                 \n",
            " block4_pool (MaxPooling2D)  (None, 14, 14, 512)       0         \n",
            "                                                                 \n",
            " block5_conv1 (Conv2D)       (None, 14, 14, 512)       2359808   \n",
            "                                                                 \n",
            " block5_conv2 (Conv2D)       (None, 14, 14, 512)       2359808   \n",
            "                                                                 \n",
            " block5_conv3 (Conv2D)       (None, 14, 14, 512)       2359808   \n",
            "                                                                 \n",
            " block5_conv4 (Conv2D)       (None, 14, 14, 512)       2359808   \n",
            "                                                                 \n",
            " block5_pool (MaxPooling2D)  (None, 7, 7, 512)         0         \n",
            "                                                                 \n",
            " flatten (Flatten)           (None, 25088)             0         \n",
            "                                                                 \n",
            " dense (Dense)               (None, 2)                 50178     \n",
            "                                                                 \n",
            "=================================================================\n",
            "Total params: 20,074,562\n",
            "Trainable params: 50,178\n",
            "Non-trainable params: 20,024,384\n",
            "_________________________________________________________________\n"
          ]
        }
      ]
    },
    {
      "cell_type": "code",
      "source": [
        "model.compile(\n",
        "  loss='sparse_categorical_crossentropy',\n",
        "  optimizer=\"adam\",\n",
        "  metrics=['accuracy']\n",
        ")"
      ],
      "metadata": {
        "id": "f10gbaNnym0m"
      },
      "execution_count": 21,
      "outputs": []
    },
    {
      "cell_type": "code",
      "source": [
        "from tensorflow.keras.callbacks import EarlyStopping\n",
        "early_stop=EarlyStopping(monitor='val_loss',mode='min',verbose=1,patience=5)"
      ],
      "metadata": {
        "id": "yjatDqDjyrDO"
      },
      "execution_count": 22,
      "outputs": []
    },
    {
      "cell_type": "code",
      "source": [],
      "metadata": {
        "id": "uYKrhRmvyvYY"
      },
      "execution_count": 24,
      "outputs": []
    },
    {
      "cell_type": "code",
      "source": [
        "history = model.fit(\n",
        "  train_x,\n",
        "  train_y,\n",
        "  validation_data=(test_x,test_y),\n",
        "  epochs=30,\n",
        "  callbacks=[early_stop],\n",
        "  batch_size=32,shuffle=True)"
      ],
      "metadata": {
        "colab": {
          "base_uri": "https://localhost:8080/"
        },
        "id": "x_BmoyfNY9C_",
        "outputId": "31b08610-0dc6-4cf6-836d-877fccd20837"
      },
      "execution_count": 23,
      "outputs": [
        {
          "output_type": "stream",
          "name": "stdout",
          "text": [
            "Epoch 1/30\n",
            "3/3 [==============================] - 82s 27s/step - loss: 1.8908 - accuracy: 0.4944 - val_loss: 1.2316 - val_accuracy: 0.5000\n",
            "Epoch 2/30\n",
            "3/3 [==============================] - 77s 26s/step - loss: 1.1504 - accuracy: 0.5281 - val_loss: 0.6544 - val_accuracy: 0.5000\n",
            "Epoch 3/30\n",
            "3/3 [==============================] - 76s 27s/step - loss: 0.3182 - accuracy: 0.8427 - val_loss: 0.7913 - val_accuracy: 0.5000\n",
            "Epoch 4/30\n",
            "3/3 [==============================] - 76s 26s/step - loss: 0.4432 - accuracy: 0.7978 - val_loss: 0.2454 - val_accuracy: 0.9000\n",
            "Epoch 5/30\n",
            "3/3 [==============================] - 76s 26s/step - loss: 0.0839 - accuracy: 0.9663 - val_loss: 0.8416 - val_accuracy: 0.6000\n",
            "Epoch 6/30\n",
            "3/3 [==============================] - 76s 26s/step - loss: 0.1707 - accuracy: 0.9326 - val_loss: 0.7310 - val_accuracy: 0.6000\n",
            "Epoch 7/30\n",
            "3/3 [==============================] - 76s 26s/step - loss: 0.0611 - accuracy: 0.9775 - val_loss: 0.3037 - val_accuracy: 0.9000\n",
            "Epoch 8/30\n",
            "3/3 [==============================] - 78s 26s/step - loss: 0.0315 - accuracy: 0.9888 - val_loss: 0.1848 - val_accuracy: 0.9000\n",
            "Epoch 9/30\n",
            "3/3 [==============================] - 76s 26s/step - loss: 0.0479 - accuracy: 0.9551 - val_loss: 0.1741 - val_accuracy: 0.9000\n",
            "Epoch 10/30\n",
            "3/3 [==============================] - 75s 26s/step - loss: 0.0321 - accuracy: 0.9888 - val_loss: 0.1937 - val_accuracy: 0.9000\n",
            "Epoch 11/30\n",
            "3/3 [==============================] - 76s 26s/step - loss: 0.0181 - accuracy: 1.0000 - val_loss: 0.2804 - val_accuracy: 0.9000\n",
            "Epoch 12/30\n",
            "3/3 [==============================] - 76s 26s/step - loss: 0.0066 - accuracy: 1.0000 - val_loss: 0.3798 - val_accuracy: 0.9000\n",
            "Epoch 13/30\n",
            "3/3 [==============================] - 76s 27s/step - loss: 0.0083 - accuracy: 1.0000 - val_loss: 0.4572 - val_accuracy: 0.9000\n",
            "Epoch 14/30\n",
            "3/3 [==============================] - 76s 26s/step - loss: 0.0094 - accuracy: 1.0000 - val_loss: 0.4737 - val_accuracy: 0.9000\n",
            "Epoch 14: early stopping\n"
          ]
        }
      ]
    },
    {
      "cell_type": "code",
      "source": [
        "plt.plot(history.history['accuracy'], label='train acc')\n",
        "\n",
        "plt.plot(history.history['val_accuracy'], label='val acc')\n",
        "\n",
        "plt.legend()\n",
        "\n",
        "plt.savefig('vgg-acc-rps-1.png')\n",
        "\n",
        "plt.show()\n",
        "# loss\n",
        "plt.plot(history.history['loss'], label='train loss')\n",
        "plt.plot(history.history['val_loss'], label='val loss')\n",
        "plt.legend()\n",
        "plt.savefig('vgg-loss-rps-1.png')\n",
        "plt.show()\n"
      ],
      "metadata": {
        "id": "x4Fr6YiSy3lL",
        "colab": {
          "base_uri": "https://localhost:8080/",
          "height": 843
        },
        "outputId": "7dc5b49d-b772-4495-a60c-216ba3920dfd"
      },
      "execution_count": 24,
      "outputs": [
        {
          "output_type": "display_data",
          "data": {
            "text/plain": [
              "<Figure size 640x480 with 1 Axes>"
            ],
            "image/png": "[encoded data removed]"
          },
          "metadata": {}
        },
        {
          "output_type": "display_data",
          "data": {
            "text/plain": [
              "<Figure size 640x480 with 1 Axes>"
            ],
            "image/png": "[encoded data removed]"
          },
          "metadata": {}
        }
      ]
    },
    {
      "cell_type": "code",
      "source": [],
      "metadata": {
        "id": "I6XLzTGkXV2E"
      },
      "execution_count": null,
      "outputs": []
    }
  ]
}